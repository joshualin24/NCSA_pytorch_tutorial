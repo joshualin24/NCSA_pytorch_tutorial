{
  "nbformat": 4,
  "nbformat_minor": 0,
  "metadata": {
    "colab": {
      "name": "NCSA_PyTorch_basics.ipynb",
      "provenance": [],
      "collapsed_sections": [],
      "include_colab_link": true
    },
    "kernelspec": {
      "name": "python3",
      "display_name": "Python 3"
    },
    "accelerator": "GPU"
  },
  "cells": [
    {
      "cell_type": "markdown",
      "metadata": {
        "id": "view-in-github",
        "colab_type": "text"
      },
      "source": [
        "<a href=\"https://colab.research.google.com/github/joshualin24/NCSA_pytorch_tutorial/blob/main/NCSA_PyTorch_basics.ipynb\" target=\"_parent\"><img src=\"https://colab.research.google.com/assets/colab-badge.svg\" alt=\"Open In Colab\"/></a>"
      ]
    },
    {
      "cell_type": "markdown",
      "metadata": {
        "id": "ktTpk9bCr_Lg"
      },
      "source": [
        "# **PyTorch Basics Tutorial**\n",
        "\n",
        "The following tutorial is adapted from the [DeepLearningForNLPInPytorch tutorial](https://github.com/rguthrie3/DeepLearningForNLPInPytorch/blob/master/Deep%20Learning%20for%20Natural%20Language%20Processing%20with%20Pytorch.ipynb) and the [Official PyTorch tutorials](https://pytorch.org/tutorials/beginner/blitz/tensor_tutorial.html#sphx-glr-beginner-blitz-tensor-tutorial-py)."
      ]
    },
    {
      "cell_type": "markdown",
      "metadata": {
        "id": "gT-s9_PdslEW"
      },
      "source": [
        "## Installation\n",
        "\n",
        "**Via Anaconda/Miniconda:**  \n",
        "`condainstall pytorch-c pytorch`\n",
        "\n",
        "**Via pip:**  \n",
        "`pip3 install torch`\n"
      ]
    },
    {
      "cell_type": "code",
      "metadata": {
        "id": "GlRjjJqDr5bs",
        "colab": {
          "base_uri": "https://localhost:8080/"
        },
        "outputId": "3e672239-6a0e-41db-e6ed-d5cb339a8fcb"
      },
      "source": [
        "import torch\n",
        "print(torch.__version__)"
      ],
      "execution_count": null,
      "outputs": [
        {
          "output_type": "stream",
          "name": "stdout",
          "text": [
            "1.9.0+cu102\n"
          ]
        }
      ]
    },
    {
      "cell_type": "markdown",
      "metadata": {
        "id": "xaso_dtjsExr"
      },
      "source": [
        "## 1. Tensors\n",
        "Tensors are similar to NumPy’s ndarrays, with the addition being that Tensors can also be used on a GPU to accelerate computing.\n",
        "\n",
        "### 1.1 Creating Tensors from data\n",
        "Tensors can be created from Python lists with the `torch.Tensor()` function."
      ]
    },
    {
      "cell_type": "code",
      "metadata": {
        "id": "zpQ5Oek2s4ca",
        "colab": {
          "base_uri": "https://localhost:8080/"
        },
        "outputId": "03071a47-d9d4-48af-c2cc-41d06b1a6888"
      },
      "source": [
        "# Example with 1-D data\n",
        "data = [1.0, 2.0, 3.0]\n",
        "tensor = torch.Tensor(data)\n",
        "print(\"Example with 1-D data\")\n",
        "print(tensor)\n",
        "\n",
        "# Example with 2-D data\n",
        "data = [[1., 2., 3.], [4., 5., 6]]\n",
        "tensor = torch.Tensor(data)\n",
        "print(\"\\nExample with 2-D data\")\n",
        "print(tensor)\n",
        "\n",
        "# Example with 3-D data\n",
        "data = [[[1.,2.], [3.,4.]],\n",
        "        [[5.,6.], [7.,8.]]]\n",
        "tensor = torch.Tensor(data)\n",
        "print(\"\\nExample with 3-D data\")\n",
        "print(tensor)"
      ],
      "execution_count": null,
      "outputs": [
        {
          "output_type": "stream",
          "name": "stdout",
          "text": [
            "Example with 1-D data\n",
            "tensor([1., 2., 3.])\n",
            "\n",
            "Example with 2-D data\n",
            "tensor([[1., 2., 3.],\n",
            "        [4., 5., 6.]])\n",
            "\n",
            "Example with 3-D data\n",
            "tensor([[[1., 2.],\n",
            "         [3., 4.]],\n",
            "\n",
            "        [[5., 6.],\n",
            "         [7., 8.]]])\n"
          ]
        }
      ]
    },
    {
      "cell_type": "markdown",
      "metadata": {
        "id": "b18oELGNvhNg"
      },
      "source": [
        "### 1.2 Initializing an empty Tensor\n",
        "An uninitialized matrix is declared, but does not contain definite known values before it is used. When an uninitialized matrix is created, whatever values were in the allocated memory at the time will appear as the initial values.\n"
      ]
    },
    {
      "cell_type": "code",
      "metadata": {
        "id": "kg_gi1AWv_1E",
        "colab": {
          "base_uri": "https://localhost:8080/"
        },
        "outputId": "428e9e2c-3f06-4069-eaf2-f2e38833a1e0"
      },
      "source": [
        "# Construct a 2x3 matrix, uninitialized\n",
        "x = torch.empty(2, 3)\n",
        "print(x)"
      ],
      "execution_count": null,
      "outputs": [
        {
          "output_type": "stream",
          "name": "stdout",
          "text": [
            "tensor([[-2.1558e-28,  3.0901e-41,  3.3631e-44],\n",
            "        [ 0.0000e+00,         nan,  6.0000e+00]])\n"
          ]
        }
      ]
    },
    {
      "cell_type": "markdown",
      "metadata": {
        "id": "gDr4ZzQrwOmZ"
      },
      "source": [
        "### 1.3 Randomly initialized Tensor\n",
        "\n"
      ]
    },
    {
      "cell_type": "code",
      "metadata": {
        "id": "r0pZQfUywgwL",
        "colab": {
          "base_uri": "https://localhost:8080/"
        },
        "outputId": "7bcf67af-c517-4011-cfc6-b15d2ac492db"
      },
      "source": [
        "x = torch.rand(2, 3)\n",
        "print(x)"
      ],
      "execution_count": null,
      "outputs": [
        {
          "output_type": "stream",
          "name": "stdout",
          "text": [
            "tensor([[0.2707, 0.0604, 0.9663],\n",
            "        [0.4437, 0.8198, 0.2761]])\n"
          ]
        }
      ]
    },
    {
      "cell_type": "markdown",
      "metadata": {
        "id": "rLJOlS32wjFg"
      },
      "source": [
        "### 1.4 Tensor with zeros or ones"
      ]
    },
    {
      "cell_type": "code",
      "metadata": {
        "id": "JQ0JM9njwtFr",
        "colab": {
          "base_uri": "https://localhost:8080/"
        },
        "outputId": "b783e097-002a-472e-a0f1-d19968162385"
      },
      "source": [
        "# Create a matrix of all zeros\n",
        "x = torch.zeros(2, 3)\n",
        "print(\"Matrix of zeros\")\n",
        "print(x)\n",
        "\n",
        "# Create a matrix of all zeros and explicitly set data type to be long int\n",
        "x = torch.zeros(2, 3, dtype=torch.long)\n",
        "print(\"\\nMatrix of zeros typecasted to long\")\n",
        "print(x)\n",
        "\n",
        "x = torch.ones(2, 3, dtype=torch.long)\n",
        "print(\"\\nMatrix of ones typecasted to long\")\n",
        "print(x)\n"
      ],
      "execution_count": null,
      "outputs": [
        {
          "output_type": "stream",
          "name": "stdout",
          "text": [
            "Matrix of zeros\n",
            "tensor([[0., 0., 0.],\n",
            "        [0., 0., 0.]])\n",
            "\n",
            "Matrix of zeros typecasted to long\n",
            "tensor([[0, 0, 0],\n",
            "        [0, 0, 0]])\n",
            "\n",
            "Matrix of ones typecasted to long\n",
            "tensor([[1, 1, 1],\n",
            "        [1, 1, 1]])\n"
          ]
        }
      ]
    },
    {
      "cell_type": "markdown",
      "metadata": {
        "id": "s0HQKRy2wsDd"
      },
      "source": [
        "### 1.5 Create Tensor based on existing Tensor"
      ]
    },
    {
      "cell_type": "code",
      "metadata": {
        "id": "visdOehpxqd-",
        "colab": {
          "base_uri": "https://localhost:8080/"
        },
        "outputId": "452efe49-2dfd-46eb-e6f9-ac381933b2f3"
      },
      "source": [
        "x = x.new_ones(2, 3, dtype=torch.double)      # new_* methods take in sizes\n",
        "print(x)\n",
        "\n",
        "x = torch.randn_like(x, dtype=torch.float)    # override dtype!\n",
        "print(x)                                      # result has the same size"
      ],
      "execution_count": null,
      "outputs": [
        {
          "output_type": "stream",
          "name": "stdout",
          "text": [
            "tensor([[1., 1., 1.],\n",
            "        [1., 1., 1.]], dtype=torch.float64)\n",
            "tensor([[-0.1537,  0.0114,  0.8903],\n",
            "        [ 0.6393, -0.1981, -1.8608]])\n"
          ]
        }
      ]
    },
    {
      "cell_type": "markdown",
      "metadata": {
        "id": "HLZfCcObzBTe"
      },
      "source": [
        "### 1.6 Size of a Tensor\n",
        "`torch.Size` is in fact a tuple, so it supports all tuple operations."
      ]
    },
    {
      "cell_type": "code",
      "metadata": {
        "id": "YVIu-uZnzEm-",
        "colab": {
          "base_uri": "https://localhost:8080/"
        },
        "outputId": "3e09a25b-1c5d-4be3-8a3e-43c663dffae4"
      },
      "source": [
        "# Example with 1-D data\n",
        "data = [1.0, 2.0, 3.0]\n",
        "tensor = torch.Tensor(data)\n",
        "print(\"Example with 1-D data\")\n",
        "print(tensor)\n",
        "print(tensor.size())\n",
        "\n",
        "# Example with 2-D data\n",
        "data = [[1., 2., 3.], [4., 5., 6]]\n",
        "tensor = torch.Tensor(data)\n",
        "print(\"\\nExample with 2-D data\")\n",
        "print(tensor)\n",
        "print(tensor.size())\n",
        "\n",
        "# Example with 3-D data\n",
        "data = [[[1.,2.], [3.,4.]],\n",
        "        [[5.,6.], [7.,8.]]]\n",
        "tensor = torch.Tensor(data)\n",
        "print(\"\\nExample with 3-D data\")\n",
        "print(tensor)\n",
        "print(tensor.size())"
      ],
      "execution_count": null,
      "outputs": [
        {
          "output_type": "stream",
          "name": "stdout",
          "text": [
            "Example with 1-D data\n",
            "tensor([1., 2., 3.])\n",
            "torch.Size([3])\n",
            "\n",
            "Example with 2-D data\n",
            "tensor([[1., 2., 3.],\n",
            "        [4., 5., 6.]])\n",
            "torch.Size([2, 3])\n",
            "\n",
            "Example with 3-D data\n",
            "tensor([[[1., 2.],\n",
            "         [3., 4.]],\n",
            "\n",
            "        [[5., 6.],\n",
            "         [7., 8.]]])\n",
            "torch.Size([2, 2, 2])\n"
          ]
        }
      ]
    },
    {
      "cell_type": "markdown",
      "metadata": {
        "id": "cYai6C6H0kKx"
      },
      "source": [
        "### 1.7 Operations with Tensors\n",
        "Most operations are very similar to NumPy."
      ]
    },
    {
      "cell_type": "code",
      "metadata": {
        "id": "ZRj42hPO0prW",
        "colab": {
          "base_uri": "https://localhost:8080/"
        },
        "outputId": "cae037df-c61e-406b-ae27-b730cc5d5095"
      },
      "source": [
        "# Addition\n",
        "x = torch.Tensor([ 1., 2., 3. ])\n",
        "y = torch.Tensor([ 4., 5., 6. ])\n",
        "\n",
        "# using arithmetic operation\n",
        "z = x + y\n",
        "print(z)\n",
        "\n",
        "# using method\n",
        "print(torch.add(x, y))\n",
        "\n",
        "# using method and providing an output tensor as argument\n",
        "output = torch.empty(2, 3)\n",
        "torch.add(x, y, out=output)\n",
        "print(output)"
      ],
      "execution_count": null,
      "outputs": [
        {
          "output_type": "stream",
          "name": "stdout",
          "text": [
            "tensor([5., 7., 9.])\n",
            "tensor([5., 7., 9.])\n",
            "tensor([5., 7., 9.])\n"
          ]
        },
        {
          "output_type": "stream",
          "name": "stderr",
          "text": [
            "/usr/local/lib/python3.7/dist-packages/ipykernel_launcher.py:14: UserWarning: An output with one or more elements was resized since it had shape [2, 3], which does not match the required output shape [3].This behavior is deprecated, and in a future PyTorch release outputs will not be resized unless they have zero elements. You can explicitly reuse an out tensor t by resizing it, inplace, to zero elements with t.resize_(0). (Triggered internally at  /pytorch/aten/src/ATen/native/Resize.cpp:23.)\n",
            "  \n"
          ]
        }
      ]
    },
    {
      "cell_type": "code",
      "metadata": {
        "id": "cjy0Zqik0-wL",
        "colab": {
          "base_uri": "https://localhost:8080/"
        },
        "outputId": "6a90d45c-e155-4b51-9693-4c7637469185"
      },
      "source": [
        "# In-place addition\n",
        "\n",
        "x = torch.Tensor([ 1., 2., 3. ])\n",
        "y = torch.Tensor([ 4., 5., 6. ])\n",
        "\n",
        "y.add_(x)\n",
        "print(y)"
      ],
      "execution_count": null,
      "outputs": [
        {
          "output_type": "stream",
          "name": "stdout",
          "text": [
            "tensor([5., 7., 9.])\n"
          ]
        }
      ]
    },
    {
      "cell_type": "code",
      "metadata": {
        "colab": {
          "base_uri": "https://localhost:8080/"
        },
        "id": "0b2jfCrsgLxm",
        "outputId": "600b19d7-14f8-4a8d-c982-c92800c9ae72"
      },
      "source": [
        "# elementwise multiplication\n",
        "\n",
        "x = torch.Tensor([ 1., 2., 3. ])\n",
        "y = torch.Tensor([ 4., 5., 6. ])\n",
        "\n",
        "z = x * y \n",
        "print(z)"
      ],
      "execution_count": null,
      "outputs": [
        {
          "output_type": "stream",
          "name": "stdout",
          "text": [
            "tensor([ 4., 10., 18.])\n"
          ]
        }
      ]
    },
    {
      "cell_type": "code",
      "metadata": {
        "colab": {
          "base_uri": "https://localhost:8080/"
        },
        "id": "yT6mGZQxgVRf",
        "outputId": "f7ce8acc-7a5b-4a18-ae9b-d6416134a1b5"
      },
      "source": [
        "# Matrix product (inner) of two tensors\n",
        "\n",
        "x = torch.Tensor([ 1., 2., 3. ])\n",
        "y = torch.Tensor([ 4., 5., 6. ])\n",
        "\n",
        "z = torch.matmul(x, y)\n",
        "print(z)"
      ],
      "execution_count": null,
      "outputs": [
        {
          "output_type": "stream",
          "name": "stdout",
          "text": [
            "tensor(32.)\n"
          ]
        }
      ]
    },
    {
      "cell_type": "code",
      "metadata": {
        "colab": {
          "base_uri": "https://localhost:8080/"
        },
        "id": "lvCyuh2Eg9Vc",
        "outputId": "4f302e64-b3bf-4f45-a8c9-15b75464d8a8"
      },
      "source": [
        "# outer product\n",
        "\n",
        "x = torch.Tensor([ 1., 2., 3. ])\n",
        "y = torch.Tensor([ 4., 5., 6. ])\n",
        "\n",
        "z = torch.outer(x, y.T)\n",
        "print(z) ### 3 by 3"
      ],
      "execution_count": null,
      "outputs": [
        {
          "output_type": "stream",
          "name": "stdout",
          "text": [
            "tensor([[ 4.,  5.,  6.],\n",
            "        [ 8., 10., 12.],\n",
            "        [12., 15., 18.]])\n"
          ]
        }
      ]
    },
    {
      "cell_type": "code",
      "metadata": {
        "colab": {
          "base_uri": "https://localhost:8080/"
        },
        "id": "ws7e2fwyiuWp",
        "outputId": "4f480df2-bf2b-4583-ea2d-160d5442cbd6"
      },
      "source": [
        "# activation function (ReLU)\n",
        "\n",
        "import torch.nn as nn\n",
        "\n",
        "x = torch.Tensor([ 1., 100., -100. ])\n",
        "m = nn.ReLU()\n",
        "z = m(x)\n",
        "print(z) ### bring positive/ negative large value -> 1 / -1\n"
      ],
      "execution_count": null,
      "outputs": [
        {
          "output_type": "stream",
          "name": "stdout",
          "text": [
            "tensor([  1., 100.,   0.])\n"
          ]
        }
      ]
    },
    {
      "cell_type": "code",
      "metadata": {
        "colab": {
          "base_uri": "https://localhost:8080/"
        },
        "id": "2zJSmMMNkG1k",
        "outputId": "0ce2ee26-954d-4e2e-b7ad-1945407cf94f"
      },
      "source": [
        "# activation function (Tanh)\n",
        "\n",
        "x = torch.Tensor([ 1., 100., -100. ])\n",
        "m = nn.Tanh()\n",
        "z = m(x)\n",
        "\n",
        "print(z) ### bring positive/ negative large value -> 1 / -1"
      ],
      "execution_count": null,
      "outputs": [
        {
          "output_type": "stream",
          "name": "stdout",
          "text": [
            "tensor([ 0.7616,  1.0000, -1.0000])\n"
          ]
        }
      ]
    },
    {
      "cell_type": "markdown",
      "metadata": {
        "id": "hFetPkbO1750"
      },
      "source": [
        "Any operation that mutates a tensor in-place is post-fixed with an underscore `_`. For example: `x.copy_(y)`, `x.t_()`, will change `x`.\n",
        "\n",
        "See [the PyTorch official documentation](http://pytorch.org/docs/torch.html) for a complete list of the massive number of operations available to you.  They expand beyond just mathematical operations.\n"
      ]
    },
    {
      "cell_type": "code",
      "metadata": {
        "id": "gedfbDbd06Fn",
        "colab": {
          "base_uri": "https://localhost:8080/"
        },
        "outputId": "313ebcdc-ed5d-4ef7-f4ed-1d2012b5146f"
      },
      "source": [
        "# Indexing\n",
        "\n",
        "x = torch.Tensor([[1., 2., 3.], [4., 5., 6]])\n",
        "print(x[:, 1]) # Gets column with index 1"
      ],
      "execution_count": null,
      "outputs": [
        {
          "output_type": "stream",
          "name": "stdout",
          "text": [
            "tensor([2., 5.])\n"
          ]
        }
      ]
    },
    {
      "cell_type": "markdown",
      "metadata": {
        "id": "_IqeYxdg3Bvk"
      },
      "source": [
        "### 1.8 Reshaping Tensors"
      ]
    },
    {
      "cell_type": "code",
      "metadata": {
        "id": "pUwsXsfw26g_",
        "colab": {
          "base_uri": "https://localhost:8080/"
        },
        "outputId": "606dc136-efae-41ff-ee08-d4e1c16b77ee"
      },
      "source": [
        "x = torch.randn(4, 4)\n",
        "y = x.view(16)\n",
        "z = x.view(-1, 8)  # the size -1 is inferred from other dimensions\n",
        "print(x.size(), y.size(), z.size())\n",
        "\n",
        "print('x', x.unsqueeze(0).shape)"
      ],
      "execution_count": null,
      "outputs": [
        {
          "output_type": "stream",
          "name": "stdout",
          "text": [
            "torch.Size([4, 4]) torch.Size([16]) torch.Size([2, 8])\n",
            "x torch.Size([1, 4, 4])\n"
          ]
        }
      ]
    },
    {
      "cell_type": "code",
      "metadata": {
        "id": "clJzuzI93U7k",
        "colab": {
          "base_uri": "https://localhost:8080/"
        },
        "outputId": "a2a0bd97-5fd0-4aa3-9805-7049bb2c9b40"
      },
      "source": [
        "x = torch.randn(1)\n",
        "print(x)\n",
        "print(x.item())"
      ],
      "execution_count": null,
      "outputs": [
        {
          "output_type": "stream",
          "name": "stdout",
          "text": [
            "tensor([-1.0118])\n",
            "-1.0117835998535156\n"
          ]
        }
      ]
    },
    {
      "cell_type": "markdown",
      "metadata": {
        "id": "zRbkdZcArlk7"
      },
      "source": [
        "### 1.9 Converting to and from NumPy/ List\n",
        "Converting a Torch Tensor to a NumPy array and vice versa is a breeze.\n",
        "\n",
        "The Torch Tensor and NumPy array will **share their underlying memory locations** (if the Torch Tensor is on CPU), and **changing one will change the other**.\n",
        "\n"
      ]
    },
    {
      "cell_type": "code",
      "metadata": {
        "id": "BlLtucZM3g-N",
        "colab": {
          "base_uri": "https://localhost:8080/"
        },
        "outputId": "41ce40b1-2083-4eca-8a38-15d48331e388"
      },
      "source": [
        "a = torch.ones(5)\n",
        "print(\"Original a:\", a)\n",
        "\n",
        "b = a.numpy()\n",
        "print(\"Original b:\", b)\n",
        "\n",
        "a.add_(1)\n",
        "print(\"New a:\", a)\n",
        "print(\"New b:\", b)"
      ],
      "execution_count": null,
      "outputs": [
        {
          "output_type": "stream",
          "name": "stdout",
          "text": [
            "Original a: tensor([1., 1., 1., 1., 1.])\n",
            "Original b: [1. 1. 1. 1. 1.]\n",
            "New a: tensor([2., 2., 2., 2., 2.])\n",
            "New b: [2. 2. 2. 2. 2.]\n"
          ]
        }
      ]
    },
    {
      "cell_type": "code",
      "metadata": {
        "id": "Cij37AWq31XG",
        "colab": {
          "base_uri": "https://localhost:8080/"
        },
        "outputId": "02c8f6f3-fc1d-4e03-d6e1-145ab95d18b0"
      },
      "source": [
        "import numpy as np\n",
        "a = np.ones(5)\n",
        "b = torch.from_numpy(a)\n",
        "np.add(a, 1, out=a)\n",
        "print(a)\n",
        "print(b)"
      ],
      "execution_count": null,
      "outputs": [
        {
          "output_type": "stream",
          "name": "stdout",
          "text": [
            "[2. 2. 2. 2. 2.]\n",
            "tensor([2., 2., 2., 2., 2.], dtype=torch.float64)\n"
          ]
        }
      ]
    },
    {
      "cell_type": "code",
      "metadata": {
        "colab": {
          "base_uri": "https://localhost:8080/"
        },
        "id": "DSNW0Okbe_Nz",
        "outputId": "bb1db857-631e-470b-8738-bb09198eaefb"
      },
      "source": [
        "data = [[1, 2],[3, 4]] #### list \n",
        "x_data = torch.tensor(data) ### list to pytorch tensor\n",
        "\n",
        "print('list', data)\n",
        "print('tensor', x_data)"
      ],
      "execution_count": null,
      "outputs": [
        {
          "output_type": "stream",
          "name": "stdout",
          "text": [
            "list [[1, 2], [3, 4]]\n",
            "tensor tensor([[1, 2],\n",
            "        [3, 4]])\n"
          ]
        }
      ]
    },
    {
      "cell_type": "markdown",
      "metadata": {
        "id": "g-T79NfE4Ck2"
      },
      "source": [
        "### 1.10. CUDA Tensors\n",
        "\n",
        "Tensors can be moved onto any device using the `.to` method.\n"
      ]
    },
    {
      "cell_type": "markdown",
      "metadata": {
        "id": "kbUIutU44psf"
      },
      "source": [
        "### Enable GPU on your Colab notebook\n",
        "\n",
        "Go to Edit -> Notebook Settings -> select GPU as Hardware accelerator\n",
        "\n",
        "<img src=\"https://jovianlin.io/content/images/2018/01/Screen-Shot-2018-01-23-at-8.38.04-AM.png\" width=\"300\">"
      ]
    },
    {
      "cell_type": "code",
      "metadata": {
        "id": "KWaJxd1-4M2w",
        "colab": {
          "base_uri": "https://localhost:8080/"
        },
        "outputId": "c9993df7-f232-45f0-c6cd-6c4d5a86c456"
      },
      "source": [
        "# Try to run this cell with both GPU support and without\n",
        "import torch\n",
        "print(\"CUDA available?\", torch.cuda.is_available())\n",
        "\n",
        "# We will use ``torch.device`` objects to move tensors in and out of GPU\n",
        "if torch.cuda.is_available():\n",
        "    device = torch.device(\"cuda\")          # a CUDA device object\n",
        "    x = torch.Tensor([1.0, 2.0, 3.0])\n",
        "    y = torch.ones_like(x, device=device)  # directly create a tensor on GPU\n",
        "    x = x.to(device)                       # or just use strings ``.to(\"cuda\")``\n",
        "    z = x + y\n",
        "    print(z)\n",
        "    print(z.to(\"cpu\", torch.double))       # ``.to`` can also change dtype together!"
      ],
      "execution_count": null,
      "outputs": [
        {
          "output_type": "stream",
          "name": "stdout",
          "text": [
            "CUDA available? True\n",
            "tensor([2., 3., 4.], device='cuda:0')\n",
            "tensor([2., 3., 4.], dtype=torch.float64)\n"
          ]
        }
      ]
    },
    {
      "cell_type": "markdown",
      "metadata": {
        "id": "UqClHzpw6Lg3"
      },
      "source": [
        "## 2. Autograd: Automatic Differentiation\n",
        "\n",
        "The autograd package provides automatic differentiation for all operations on Tensors. It is a define-by-run framework, which means that your backprop is defined by how your code is run, and that every single iteration can be different.\n",
        "\n",
        "``torch.Tensor`` is the central class of the package. If you set its attribute\n",
        "``.requires_grad`` as ``True``, it **starts to track all operations on it**. When\n",
        "you finish your computation you can call ``.backward()`` and have **all the\n",
        "gradients computed automatically**. The gradient for this tensor will be\n",
        "accumulated into ``.grad`` attribute.\n",
        "\n",
        "To **stop a tensor from tracking history**, you can call ``.detach()`` to detach\n",
        "it from the computation history, and to prevent future computation from being\n",
        "tracked.\n",
        "\n",
        "To **prevent tracking history (and using memory)**, you can also wrap the code block\n",
        "in ``with torch.no_grad():``. This can be particularly helpful when evaluating a\n",
        "model because the model may have trainable parameters with `requires_grad=True`,\n",
        "but for which we don't need the gradients."
      ]
    },
    {
      "cell_type": "code",
      "metadata": {
        "id": "s3JXX8xr8HWJ",
        "colab": {
          "base_uri": "https://localhost:8080/"
        },
        "outputId": "3df25182-857b-4a95-dd3a-8fdc05b92440"
      },
      "source": [
        "import torch\n",
        "x = torch.ones(2, 2, requires_grad=True)\n",
        "print(x)"
      ],
      "execution_count": null,
      "outputs": [
        {
          "output_type": "stream",
          "name": "stdout",
          "text": [
            "tensor([[1., 1.],\n",
            "        [1., 1.]], requires_grad=True)\n"
          ]
        }
      ]
    },
    {
      "cell_type": "code",
      "metadata": {
        "id": "CuHGuSWn8Pfm",
        "colab": {
          "base_uri": "https://localhost:8080/"
        },
        "outputId": "0ddcf5c8-82b4-4b9d-dcfa-70d977c1bd8d"
      },
      "source": [
        "y = x + 2\n",
        "print(y)\n",
        "\n",
        "# y was created as a result of an operation, so it has a grad_fn."
      ],
      "execution_count": null,
      "outputs": [
        {
          "output_type": "stream",
          "name": "stdout",
          "text": [
            "tensor([[3., 3.],\n",
            "        [3., 3.]], grad_fn=<AddBackward0>)\n"
          ]
        }
      ]
    },
    {
      "cell_type": "code",
      "metadata": {
        "id": "ylMfa4AP8ZfW",
        "colab": {
          "base_uri": "https://localhost:8080/"
        },
        "outputId": "8d92a94f-56b4-4439-c259-e6a1a1a152be"
      },
      "source": [
        "z = y * y * 3\n",
        "out = z.mean()\n",
        "\n",
        "print(z, out)"
      ],
      "execution_count": null,
      "outputs": [
        {
          "output_type": "stream",
          "name": "stdout",
          "text": [
            "tensor([[27., 27.],\n",
            "        [27., 27.]], grad_fn=<MulBackward0>) tensor(27., grad_fn=<MeanBackward0>)\n"
          ]
        }
      ]
    },
    {
      "cell_type": "markdown",
      "metadata": {
        "id": "TbbCf8kM8-hd"
      },
      "source": [
        "``.requires_grad_( ... )`` changes an existing Tensor's ``requires_grad``\n",
        "flag in-place. The input flag defaults to ``False`` if not given.\n",
        "\n"
      ]
    },
    {
      "cell_type": "code",
      "metadata": {
        "id": "qrCqBdbE9Avl",
        "colab": {
          "base_uri": "https://localhost:8080/"
        },
        "outputId": "521d83b6-6bf2-45aa-ca8e-e21235cfe2d3"
      },
      "source": [
        "a = torch.randn(2, 2)\n",
        "a = ((a * 3) / (a - 1))\n",
        "print(a.requires_grad)\n",
        "a.requires_grad_(True)\n",
        "print(a.requires_grad)\n",
        "b = (a * a).sum()\n",
        "print(b.grad_fn)"
      ],
      "execution_count": null,
      "outputs": [
        {
          "output_type": "stream",
          "name": "stdout",
          "text": [
            "False\n",
            "True\n",
            "<SumBackward0 object at 0x7f59b6701f50>\n"
          ]
        }
      ]
    },
    {
      "cell_type": "markdown",
      "metadata": {
        "id": "gonQpAmB-nLL"
      },
      "source": [
        "Let us consider a complete example now.\n",
        "\n",
        "Let $out = \\frac{1}{4}\\sum_i z_i$,  \n",
        "$z_i = 3(x_i+2)^2$  \n",
        "and $z_i\\bigr\\rvert_{x_i=1} = 27$.  \n",
        "Therefore,  \n",
        "$\\frac{\\partial out}{\\partial x_i} = \\frac{1}{4}\\frac{\\partial z_i}{\\partial x_i} = \\frac{1}{4}.3.2(x_i+2) = \\frac{3}{2}(x_i+2)$,  \n",
        " hence  \n",
        "$\\frac{\\partial out}{\\partial x_i}\\bigr\\rvert_{x_i=1} = \\frac{9}{2} = 4.5$.\n",
        "\n"
      ]
    },
    {
      "cell_type": "code",
      "metadata": {
        "id": "TbbdshuP-mRz",
        "colab": {
          "base_uri": "https://localhost:8080/"
        },
        "outputId": "fc3825aa-8d1d-4b94-e709-85c0a6f69838"
      },
      "source": [
        "x = torch.ones(2, 2, requires_grad=True)\n",
        "y = x + 2\n",
        "z = y * y * 3\n",
        "out = z.mean()\n",
        "\n",
        "out.backward()\n",
        "print(x.grad)\n"
      ],
      "execution_count": null,
      "outputs": [
        {
          "output_type": "stream",
          "name": "stdout",
          "text": [
            "tensor([[4.5000, 4.5000],\n",
            "        [4.5000, 4.5000]])\n"
          ]
        }
      ]
    },
    {
      "cell_type": "markdown",
      "metadata": {
        "id": "lZylx24TAy1q"
      },
      "source": [
        "Mathematically, if you have a vector valued function $\\vec{y}=f(\\vec{x})$, then the gradient of $\\vec{y}$ with respect to $\\vec{x}$ is a Jacobian matrix:\n",
        "\\begin{split}J=\\left(\\begin{array}{ccc}\n",
        " \\frac{\\partial y_{1}}{\\partial x_{1}} & \\cdots & \\frac{\\partial y_{1}}{\\partial x_{n}}\\\\\n",
        " \\vdots & \\ddots & \\vdots\\\\\n",
        " \\frac{\\partial y_{m}}{\\partial x_{1}} & \\cdots & \\frac{\\partial y_{m}}{\\partial x_{n}}\n",
        " \\end{array}\\right)\\end{split}\n",
        "\n",
        "Generally speaking, `torch.autograd` is an engine for computing vector-Jacobian product. That is, given any vector $v=\\left(\\begin{array}{cccc} v_{1} & v_{2} & \\cdots & v_{m}\\end{array}\\right)^{T}$, compute the product $v^{T}\\cdot J$. If $v$ happens to be the gradient of a scalar function $l=g\\left(\\vec{y}\\right)$, that is, $v=\\left(\\begin{array}{ccc}\\frac{\\partial l}{\\partial y_{1}} & \\cdots & \\frac{\\partial l}{\\partial y_{m}}\\end{array}\\right)^{T}$, then by the chain rule, the vector-Jacobian product would be the gradient of $l$ with respect to $\\vec{x}$:\n",
        "\\begin{split}J^{T}\\cdot v=\\left(\\begin{array}{ccc}\n",
        " \\frac{\\partial y_{1}}{\\partial x_{1}} & \\cdots & \\frac{\\partial y_{m}}{\\partial x_{1}}\\\\\n",
        " \\vdots & \\ddots & \\vdots\\\\\n",
        " \\frac{\\partial y_{1}}{\\partial x_{n}} & \\cdots & \\frac{\\partial y_{m}}{\\partial x_{n}}\n",
        " \\end{array}\\right)\\left(\\begin{array}{c}\n",
        " \\frac{\\partial l}{\\partial y_{1}}\\\\\n",
        " \\vdots\\\\\n",
        " \\frac{\\partial l}{\\partial y_{m}}\n",
        " \\end{array}\\right)=\\left(\\begin{array}{c}\n",
        " \\frac{\\partial l}{\\partial x_{1}}\\\\\n",
        " \\vdots\\\\\n",
        " \\frac{\\partial l}{\\partial x_{n}}\n",
        " \\end{array}\\right)\\end{split}\n",
        "\n",
        "(Note that $v^{T}\\cdot J$ gives a row vector which can be treated as a column vector by taking $J^{T}\\cdot v$.)\n",
        "\n",
        "This characteristic of vector-Jacobian product makes it very convenient to feed external gradients into a model that has non-scalar output."
      ]
    },
    {
      "cell_type": "markdown",
      "metadata": {
        "id": "nk1g2FU8YwfS"
      },
      "source": [
        "You can also stop autograd from tracking history on Tensors with `.requires_grad=True` either by wrapping the code block in with `torch.no_grad()`:"
      ]
    },
    {
      "cell_type": "code",
      "metadata": {
        "id": "h-tRLTbhYtWL",
        "colab": {
          "base_uri": "https://localhost:8080/"
        },
        "outputId": "dabcb203-9036-454d-f944-dcfe254a3a55"
      },
      "source": [
        "print(x.requires_grad)\n",
        "print((x ** 2).requires_grad)\n",
        "\n",
        "with torch.no_grad():\n",
        "    print((x ** 2).requires_grad)"
      ],
      "execution_count": null,
      "outputs": [
        {
          "output_type": "stream",
          "name": "stdout",
          "text": [
            "True\n",
            "True\n",
            "False\n"
          ]
        }
      ]
    },
    {
      "cell_type": "markdown",
      "metadata": {
        "id": "V5716VvqZjfV"
      },
      "source": [
        "Every time a variable is back propogated through, the gradient will be accumulated instead of being replaced. Calling `tensor.grad_zero()` would reset the gradients that have accumulated to 0.\n"
      ]
    },
    {
      "cell_type": "markdown",
      "metadata": {
        "id": "LvVKKkOHaAu0"
      },
      "source": [
        ""
      ]
    }
  ]
}